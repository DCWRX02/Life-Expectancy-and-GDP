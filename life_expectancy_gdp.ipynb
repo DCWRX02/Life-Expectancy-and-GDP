{
 "cells": [
  {
   "cell_type": "markdown",
   "metadata": {},
   "source": [
    "# Exploring the Relationship Between GDP and Life Expectancy in Six Countries"
   ]
  },
  {
   "cell_type": "markdown",
   "metadata": {},
   "source": [
    "## Objective:"
   ]
  },
  {
   "cell_type": "markdown",
   "metadata": {},
   "source": [
    "        * To analyze data from the World Health Organization to identify the relationship between GDP and Life Expectancy.\n",
    "        * Additionally, through analyzing data, answer questions about additional relationships:\n",
    "            ** What is the average life expectancy in each country?\n",
    "            ** At what GDP does a countries life expectancy exceed the average?\n",
    "            ** If GDP increases or decreases, in a country with low life expectancy, how quickly does the life expectancy change?\n",
    "            ** If GDP decreases or increases, in a country with high life expectancy, how quickly does the life expectancy change?\n",
    "            ** Can we draw conclusions about future life expectancies based on historical trends in GDP?"
   ]
  },
  {
   "cell_type": "markdown",
   "metadata": {},
   "source": [
    "### Overview:"
   ]
  },
  {
   "cell_type": "markdown",
   "metadata": {},
   "source": [
    "### Hypothesis:"
   ]
  },
  {
   "cell_type": "markdown",
   "metadata": {},
   "source": [
    "### Findings:"
   ]
  },
  {
   "cell_type": "markdown",
   "metadata": {},
   "source": [
    "### Summary:\n",
    "    "
   ]
  },
  {
   "cell_type": "code",
   "execution_count": 10,
   "metadata": {},
   "outputs": [],
   "source": [
    "# import necessary libraries\n",
    "\n",
    "import numpy as np\n",
    "import pandas as pd\n",
    "import matplotlib.pyplot as plt\n",
    "import seaborn as sns"
   ]
  },
  {
   "cell_type": "code",
   "execution_count": 18,
   "metadata": {},
   "outputs": [
    {
     "name": "stdout",
     "output_type": "stream",
     "text": [
      "  Country  Year  Life expectancy at birth (years)           GDP\n",
      "0   Chile  2000                              77.3  7.786093e+10\n",
      "1   Chile  2001                              77.3  7.097992e+10\n",
      "2   Chile  2002                              77.8  6.973681e+10\n",
      "3   Chile  2003                              77.9  7.564346e+10\n",
      "4   Chile  2004                              78.0  9.921039e+10\n"
     ]
    }
   ],
   "source": [
    "# load CSV file for analysis and print head\n",
    "gdp_le_data = pd.read_csv('~//Documents//Coding//Life-Expectancy-and-GDP-Starter//Life-Expectancy-and-GDP//all_data.csv')\n",
    "print(gdp_le_data.head())"
   ]
  },
  {
   "cell_type": "code",
   "execution_count": 40,
   "metadata": {},
   "outputs": [
    {
     "name": "stdout",
     "output_type": "stream",
     "text": [
      "The Average Life expectancy across all countries is: 72.78958333333334\n",
      "The Max Life Expectancy across all countries is: 81.0\n",
      "The Minimum Life Expectancy across all countries is: 44.3\n",
      "The Average GDP across all countries is: 3880498570768.396\n",
      "The Max GDP across all countries is: 18100000000000.0\n",
      "The Minimum GDP across all countries is: 4415702800.0\n"
     ]
    }
   ],
   "source": [
    "# Find Summary Statistics\n",
    "print(\"The Average Life expectancy across all countries is: \" + str(np.mean(gdp_le_data['Life expectancy at birth (years)'])))\n",
    "print(\"The Max Life Expectancy across all countries is: \" + str(np.max(gdp_le_data['Life expectancy at birth (years)'])))\n",
    "print(\"The Minimum Life Expectancy across all countries is: \" + str(np.min(gdp_le_data['Life expectancy at birth (years)'])))\n",
    "print(\"The Average GDP across all countries is: \" + str(np.mean(gdp_le_data['GDP'])))\n",
    "print(\"The Max GDP across all countries is: \" + str(np.max(gdp_le_data['GDP'])))\n",
    "print(\"The Minimum GDP across all countries is: \" + str(np.min(gdp_le_data['GDP'])))"
   ]
  },
  {
   "cell_type": "code",
   "execution_count": null,
   "metadata": {},
   "outputs": [],
   "source": []
  }
 ],
 "metadata": {
  "kernelspec": {
   "display_name": "Python [conda env:base] *",
   "language": "python",
   "name": "conda-base-py"
  },
  "language_info": {
   "codemirror_mode": {
    "name": "ipython",
    "version": 3
   },
   "file_extension": ".py",
   "mimetype": "text/x-python",
   "name": "python",
   "nbconvert_exporter": "python",
   "pygments_lexer": "ipython3",
   "version": "3.11.7"
  }
 },
 "nbformat": 4,
 "nbformat_minor": 4
}
