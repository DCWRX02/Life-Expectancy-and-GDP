{
 "cells": [
  {
   "cell_type": "markdown",
   "metadata": {},
   "source": [
    "# Exploring the Relationship Between GDP and Life Expectancy in Six Countries"
   ]
  },
  {
   "cell_type": "markdown",
   "metadata": {},
   "source": [
    "## Overview:\n",
    "    This project involves:\n",
    "        1. Using the provided data set on GDP and life expectancy for six countries.\n",
    "        2. Data cleaning and preperation for analysis.\n",
    "        3. Statistical analysis and visualization to explore the relationship between GDP and life expectancy.\n",
    "        4. Preparation of a blog post summarizing findings and insights."
   ]
  },
  {
   "cell_type": "markdown",
   "metadata": {},
   "source": [
    "### Hypothesis:\n",
    "     Life Expectancy is directly related to GDP ."
   ]
  },
  {
   "attachments": {},
   "cell_type": "markdown",
   "metadata": {},
   "source": [
    "### Objective:\n",
    "\n",
    "* To analyze data from the World Health Organization to identify the relationship between GDP and Life Expectancy.\n",
    "* Additionally, through analyzing data, answer questions about additional relationships:\n",
    "  * What is the average life expectancy in each country?\n",
    "  * At what GDP does a countries life expectancy exceed the average?\n",
    "  * If GDP increases or decreases, in a country with low life expectancy, how quickly does the life expectancy change?\n",
    "  * If GDP decreases or increases, in a country with high life expectancy, how quickly does the life expectancy change?\n",
    "  * Can we draw conclusions about future life expectancies based on historical trends in GDP?\n",
    "\n",
    "### Findings:"
   ]
  },
  {
   "cell_type": "markdown",
   "metadata": {},
   "source": [
    "### Summary:\n",
    "    "
   ]
  },
  {
   "cell_type": "code",
   "execution_count": 3,
   "metadata": {},
   "outputs": [],
   "source": [
    "# import necessary libraries\n",
    "\n",
    "import numpy as np\n",
    "import pandas as pd\n",
    "import matplotlib.pyplot as plt\n",
    "import seaborn as sns"
   ]
  },
  {
   "cell_type": "code",
   "execution_count": 5,
   "metadata": {},
   "outputs": [
    {
     "name": "stdout",
     "output_type": "stream",
     "text": [
      "  Country  Year  Life expectancy at birth (years)           GDP\n",
      "0   Chile  2000                              77.3  7.786093e+10\n",
      "1   Chile  2001                              77.3  7.097992e+10\n",
      "2   Chile  2002                              77.8  6.973681e+10\n",
      "3   Chile  2003                              77.9  7.564346e+10\n",
      "4   Chile  2004                              78.0  9.921039e+10\n"
     ]
    }
   ],
   "source": [
    "# load CSV file for analysis and print head\n",
    "gdp_le_data = pd.read_csv('~//Documents//Coding//Life-Expectancy-and-GDP-Starter//Life-Expectancy-and-GDP//all_data.csv')\n",
    "print(gdp_le_data.head())"
   ]
  },
  {
   "cell_type": "code",
   "execution_count": 7,
   "metadata": {},
   "outputs": [
    {
     "name": "stdout",
     "output_type": "stream",
     "text": [
      "<class 'pandas.core.frame.DataFrame'>\n",
      "RangeIndex: 96 entries, 0 to 95\n",
      "Data columns (total 4 columns):\n",
      " #   Column                          Non-Null Count  Dtype  \n",
      "---  ------                          --------------  -----  \n",
      " 0   country                         96 non-null     object \n",
      " 1   year                            96 non-null     int64  \n",
      " 2   life_expectancy_at_birth_years  96 non-null     float64\n",
      " 3   gdp                             96 non-null     float64\n",
      "dtypes: float64(2), int64(1), object(1)\n",
      "memory usage: 3.1+ KB\n",
      "None\n",
      "  country  year  life_expectancy_at_birth_years           gdp\n",
      "0   Chile  2000                            77.3  7.786093e+10\n",
      "1   Chile  2001                            77.3  7.097992e+10\n",
      "2   Chile  2002                            77.8  6.973681e+10\n",
      "3   Chile  2003                            77.9  7.564346e+10\n",
      "4   Chile  2004                            78.0  9.921039e+10\n"
     ]
    }
   ],
   "source": [
    "# Clean data set\n",
    "## Normalize Column Names\n",
    "gdp_le_data.columns = (gdp_le_data.columns.str.strip().str.lower().str.replace(' ', '_').str.replace('(', '', regex=False).str.replace(')', '', regex=False))\n",
    "                       \n",
    "## Ensure numeric columns are properly formatted\n",
    "gdp_le_data['gdp'] = pd.to_numeric(gdp_le_data['gdp'], errors='coerce')\n",
    "gdp_le_data['life_expectancy_at_birth_years'] = pd.to_numeric(gdp_le_data['life_expectancy_at_birth_years'], errors='coerce')\n",
    "\n",
    "# Verify Cleaning\n",
    "print(gdp_le_data.info())\n",
    "print(gdp_le_data.head())"
   ]
  },
  {
   "cell_type": "code",
   "execution_count": 9,
   "metadata": {
    "scrolled": true
   },
   "outputs": [
    {
     "name": "stdout",
     "output_type": "stream",
     "text": [
      "The Average Life expectancy across all countries is: 72.78958333333334\n",
      "The median Life expectancy across all countries is: 76.75\n",
      "The Max Life Expectancy across all countries is: 81.0\n",
      "The Minimum Life Expectancy across all countries is: 44.3\n",
      "The Average GDP across all countries is: 3880498570768.396\n",
      "The median GDP across all countries is: 1280220000000.0\n",
      "The Max GDP across all countries is: 18100000000000.0\n",
      "The Minimum GDP across all countries is: 4415702800.0\n"
     ]
    }
   ],
   "source": [
    "# Find Summary Statistics\n",
    "print(\"The Average Life expectancy across all countries is: \" + str(np.mean(gdp_le_data['life_expectancy_at_birth_years'])))\n",
    "print(\"The median Life expectancy across all countries is: \" + str(np.median(gdp_le_data['life_expectancy_at_birth_years'])))\n",
    "print(\"The Max Life Expectancy across all countries is: \" + str(np.max(gdp_le_data['life_expectancy_at_birth_years'])))\n",
    "print(\"The Minimum Life Expectancy across all countries is: \" + str(np.min(gdp_le_data['life_expectancy_at_birth_years'])))\n",
    "print(\"The Average GDP across all countries is: \" + str(np.mean(gdp_le_data['gdp'])))\n",
    "print(\"The median GDP across all countries is: \" + str(np.median(gdp_le_data['gdp'])))\n",
    "print(\"The Max GDP across all countries is: \" + str(np.max(gdp_le_data['gdp'])))\n",
    "print(\"The Minimum GDP across all countries is: \" + str(np.min(gdp_le_data['gdp'])))\n"
   ]
  },
  {
   "cell_type": "markdown",
   "metadata": {},
   "source": [
    "Key Insights:\n",
    "1. Life Expectancy:\n",
    "    * Range: 44.3 to 81.0 years\n",
    "    * Median (50%): 76.75 years\n",
    "    * Potential Outliers: Values near the minimum (44.3) may require further exploration\n",
    "2. GDP:\n",
    "    * Range: Approximately $4.42 billion to $18.1 Trillion\n",
    "    * Median (50%): Approximately $1.28 trillion\n",
    "    * Potential Outliers: GDP values near the lower or upper extremes should be visualized  "
   ]
  },
  {
   "cell_type": "code",
   "execution_count": null,
   "metadata": {},
   "outputs": [],
   "source": [
    "# Beginning Visualization and Analysis\n"
   ]
  }
 ],
 "metadata": {
  "kernelspec": {
   "display_name": "Python [conda env:base] *",
   "language": "python",
   "name": "conda-base-py"
  },
  "language_info": {
   "codemirror_mode": {
    "name": "ipython",
    "version": 3
   },
   "file_extension": ".py",
   "mimetype": "text/x-python",
   "name": "python",
   "nbconvert_exporter": "python",
   "pygments_lexer": "ipython3",
   "version": "3.11.7"
  }
 },
 "nbformat": 4,
 "nbformat_minor": 4
}
